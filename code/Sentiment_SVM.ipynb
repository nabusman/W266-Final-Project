{
 "cells": [
  {
   "cell_type": "code",
   "execution_count": 1,
   "metadata": {
    "collapsed": true
   },
   "outputs": [],
   "source": [
    "%matplotlib inline\n",
    "import os\n",
    "import shutil\n",
    "import json\n",
    "import cPickle as pickle\n",
    "from string import punctuation\n",
    "from random import choice\n",
    "\n",
    "import nltk\n",
    "import numpy as np\n",
    "from tqdm import tqdm\n",
    "import pandas as pd\n",
    "\n",
    "import sys\n",
    "import os\n",
    "import time\n",
    "\n",
    "from sklearn.feature_extraction.text import TfidfVectorizer\n",
    "from sklearn import svm\n",
    "from sklearn.metrics import classification_report, roc_auc_score\n",
    "\n",
    "from random import sample, seed\n",
    "from sklearn.model_selection import train_test_split"
   ]
  },
  {
   "cell_type": "code",
   "execution_count": 8,
   "metadata": {},
   "outputs": [
    {
     "data": {
      "text/plain": [
       "0"
      ]
     },
     "execution_count": 8,
     "metadata": {},
     "output_type": "execute_result"
    }
   ],
   "source": [
    "# os.system(\"shuf -n 20000 ../data/yelp_academic_dataset_review.json > ../data/yelp_academic_dataset_review_samp_20k.json\")"
   ]
  },
  {
   "cell_type": "code",
   "execution_count": 11,
   "metadata": {},
   "outputs": [
    {
     "name": "stderr",
     "output_type": "stream",
     "text": [
      "24486it [01:40, 244.76it/s]"
     ]
    }
   ],
   "source": [
    "# data_dir = '../data'\n",
    "# reviews_path = os.path.join(data_dir,'yelp_academic_dataset_review_samp_20k.json')"
   ]
  },
  {
   "cell_type": "code",
   "execution_count": 12,
   "metadata": {
    "collapsed": true
   },
   "outputs": [],
   "source": [
    "seed(101)"
   ]
  },
  {
   "cell_type": "markdown",
   "metadata": {},
   "source": [
    "# If new data"
   ]
  },
  {
   "cell_type": "code",
   "execution_count": null,
   "metadata": {
    "collapsed": true
   },
   "outputs": [],
   "source": [
    "# reviews = []\n",
    "# ratings = []\n",
    "\n",
    "# # Stem reviews before saving them\n",
    "# stemmer = nltk.stem.porter.PorterStemmer()\n",
    "# with open(reviews_path) as review_file:\n",
    "#     for line in tqdm(review_file):\n",
    "#         # Set reviews to positive or negative\n",
    "#         # Load review text\n",
    "#         review_json = json.loads(line)\n",
    "#         stars = review_json['stars']\n",
    "#         if stars > 3 or stars < 3:\n",
    "#             review_text = review_json['text']\n",
    "#             # Remove punctuation\n",
    "#             review_text = ''.join([x for x in review_text if x not in punctuation])\n",
    "#             # Tokenize and stem words and append to data\n",
    "#             review_text = ' '.join([stemmer.stem(x) for x in nltk.word_tokenize(review_text)])\n",
    "#             reviews.append(review_text)\n",
    "#             if stars > 3:\n",
    "#               ratings.append(1)\n",
    "#             elif stars < 3:\n",
    "#               ratings.append(0)"
   ]
  },
  {
   "cell_type": "code",
   "execution_count": 14,
   "metadata": {
    "collapsed": true
   },
   "outputs": [],
   "source": [
    "# to save\n",
    "with open(os.path.join(data_path,'20k_data.pickle'), 'wb') as pickle_file:\n",
    "  pickle.dump(reviews, pickle_file)\n",
    "\n",
    "with open(os.path.join(data_path,'20k_ratings.pickle'), 'wb') as pickle_file:\n",
    "  pickle.dump(ratings, pickle_file)"
   ]
  },
  {
   "cell_type": "markdown",
   "metadata": {},
   "source": [
    "# Otherwise load from pickle"
   ]
  },
  {
   "cell_type": "code",
   "execution_count": 5,
   "metadata": {
    "collapsed": true
   },
   "outputs": [],
   "source": [
    "# to load\n",
    "with open(os.path.join(data_path,'20k_data.pickle'), 'rb') as pickle_file:\n",
    "  reviews = pickle.load(pickle_file)\n",
    "with open(os.path.join(data_path,'20k_ratings.pickle'), 'rb') as pickle_file:\n",
    "  ratings = pickle.load(pickle_file)"
   ]
  },
  {
   "cell_type": "markdown",
   "metadata": {},
   "source": [
    "# Feed data to model"
   ]
  },
  {
   "cell_type": "code",
   "execution_count": 15,
   "metadata": {},
   "outputs": [
    {
     "name": "stdout",
     "output_type": "stream",
     "text": [
      "17517\n",
      "17517\n"
     ]
    },
    {
     "data": {
      "text/plain": [
       "<matplotlib.axes._subplots.AxesSubplot at 0x10f862b0>"
      ]
     },
     "execution_count": 15,
     "metadata": {},
     "output_type": "execute_result"
    },
    {
     "data": {
      "image/png": "[encoded data removed]",
      "text/plain": [
       "<matplotlib.figure.Figure at 0x10f81780>"
      ]
     },
     "metadata": {},
     "output_type": "display_data"
    }
   ],
   "source": [
    "print len(ratings)\n",
    "print len(reviews)\n",
    "unique, counts = np.unique(ratings, return_counts=True)\n",
    "pd.DataFrame(zip(unique, counts),columns=['label','count']).plot.bar(x='label',y='count')"
   ]
  },
  {
   "cell_type": "code",
   "execution_count": 19,
   "metadata": {
    "collapsed": true
   },
   "outputs": [],
   "source": [
    "# Splits of: (train: .7, val: .15, test: .15)\n",
    "train_data, X_test, train_labels, y_test = train_test_split(reviews, ratings, test_size=0.3, random_state=42,stratify=ratings)\n",
    "val_data, test_data, val_labels, test_labels = train_test_split(X_test, y_test, test_size=0.5, random_state=42,stratify=y_test)"
   ]
  },
  {
   "cell_type": "markdown",
   "metadata": {},
   "source": [
    "# Load nabeel's data"
   ]
  },
  {
   "cell_type": "code",
   "execution_count": 2,
   "metadata": {
    "collapsed": true
   },
   "outputs": [],
   "source": [
    "data_dir = '../data'"
   ]
  },
  {
   "cell_type": "code",
   "execution_count": 3,
   "metadata": {
    "collapsed": true
   },
   "outputs": [],
   "source": [
    "with open(os.path.join(data_dir,'vocabulary_all.pickle'), 'rb') as pickle_file:\n",
    "    vocabulary_all = pickle.load(pickle_file)"
   ]
  },
  {
   "cell_type": "code",
   "execution_count": 4,
   "metadata": {
    "collapsed": true
   },
   "outputs": [],
   "source": [
    "x_train = np.load(os.path.join(data_dir, 'x_train.npy'))\n",
    "x_train = np.array([' '.join([vocabulary_all[i] for i in x_train[j] if i != 0]) for j in range(len(x_train))])\n",
    "y_train = np.load(os.path.join(data_dir, 'y_train.npy'))"
   ]
  },
  {
   "cell_type": "code",
   "execution_count": 5,
   "metadata": {},
   "outputs": [],
   "source": [
    "# x_val = np.load(os.path.join(data_dir, 'x_val.npy'))\n",
    "# x_val = np.array([[vocabulary_all[i] for i in x_val[j]] for j in range(len(x_val))])\n",
    "# y_val = np.load(os.path.join(data_dir, 'y_val.npy'))\n",
    "\n",
    "x_test = np.load(os.path.join(data_dir, 'x_test.npy'))\n",
    "x_test = np.array([' '.join([vocabulary_all[i] for i in x_test[j] if i != 0]) for j in range(len(x_test))])\n",
    "y_test = np.load(os.path.join(data_dir, 'y_test.npy'))"
   ]
  },
  {
   "cell_type": "code",
   "execution_count": 6,
   "metadata": {},
   "outputs": [
    {
     "data": {
      "text/plain": [
       "<matplotlib.axes._subplots.AxesSubplot at 0xdb879e8>"
      ]
     },
     "execution_count": 6,
     "metadata": {},
     "output_type": "execute_result"
    },
    {
     "data": {
      "image/png": "[encoded data removed]",
      "text/plain": [
       "<matplotlib.figure.Figure at 0xd6d9f98>"
      ]
     },
     "metadata": {},
     "output_type": "display_data"
    }
   ],
   "source": [
    "unique, counts = np.unique(y_train, return_counts=True)\n",
    "pd.DataFrame(zip(unique, counts),columns=['label','count']).plot.bar(x='label',y='count')"
   ]
  },
  {
   "cell_type": "code",
   "execution_count": 8,
   "metadata": {},
   "outputs": [
    {
     "name": "stdout",
     "output_type": "stream",
     "text": [
      "Results for LinearSVC()\n",
      "Training time: 0.950000s; Prediction time: 0.002000s\n",
      "             precision    recall  f1-score   support\n",
      "\n",
      "          0       0.89      0.85      0.87      2804\n",
      "          1       0.94      0.96      0.95      7196\n",
      "\n",
      "avg / total       0.93      0.93      0.93     10000\n",
      "\n"
     ]
    }
   ],
   "source": [
    "# Create feature vectors\n",
    "vectorizer = TfidfVectorizer(min_df=5,\n",
    "                             max_df = 0.8,\n",
    "                             sublinear_tf=True,\n",
    "                             use_idf=True)\n",
    "train_vectors = vectorizer.fit_transform(x_train)\n",
    "test_vectors = vectorizer.transform(x_test)\n",
    "\n",
    "# Perform classification with SVM, kernel=linear\n",
    "classifier_liblinear = svm.LinearSVC()\n",
    "t0 = time.time()\n",
    "classifier_liblinear.fit(train_vectors, y_train)\n",
    "t1 = time.time()\n",
    "prediction_liblinear = classifier_liblinear.predict(test_vectors)\n",
    "t2 = time.time()\n",
    "time_liblinear_train = t1-t0\n",
    "time_liblinear_predict = t2-t1\n",
    "print(\"Results for LinearSVC()\")\n",
    "print(\"Training time: %fs; Prediction time: %fs\" % (time_liblinear_train, time_liblinear_predict))\n",
    "print(classification_report(y_test, prediction_liblinear))"
   ]
  },
  {
   "cell_type": "code",
   "execution_count": null,
   "metadata": {
    "collapsed": true
   },
   "outputs": [],
   "source": [
    "# Perform classification with SVM, kernel=rbf\n",
    "classifier_rbf = svm.SVC()\n",
    "t0 = time.time()\n",
    "classifier_rbf.fit(train_vectors, train_labels)\n",
    "t1 = time.time()\n",
    "prediction_rbf = classifier_rbf.predict(test_vectors)\n",
    "t2 = time.time()\n",
    "time_rbf_train = t1-t0\n",
    "time_rbf_predict = t2-t1\n",
    "\n",
    "# Perform classification with SVM, kernel=linear\n",
    "classifier_liblinear = svm.LinearSVC()\n",
    "t0 = time.time()\n",
    "classifier_liblinear.fit(train_vectors, train_labels)\n",
    "t1 = time.time()\n",
    "prediction_liblinear = classifier_liblinear.predict(test_vectors)\n",
    "t2 = time.time()\n",
    "time_liblinear_train = t1-t0\n",
    "time_liblinear_predict = t2-t1"
   ]
  },
  {
   "cell_type": "code",
   "execution_count": 44,
   "metadata": {
    "collapsed": true
   },
   "outputs": [],
   "source": [
    "# Perform classification with SVM, kernel=linear\n",
    "classifier_linear = svm.SVC(kernel='linear', probability=True)\n",
    "t0 = time.time()\n",
    "classifier_linear.fit(train_vectors, train_labels)\n",
    "t1 = time.time()\n",
    "prediction_linear = classifier_linear.predict(test_vectors)\n",
    "prediction_linear_proba = classifier_linear.predict_proba(test_vectors)\n",
    "t2 = time.time()\n",
    "time_linear_train = t1-t0\n",
    "time_linear_predict = t2-t1"
   ]
  },
  {
   "cell_type": "code",
   "execution_count": 45,
   "metadata": {},
   "outputs": [
    {
     "name": "stdout",
     "output_type": "stream",
     "text": [
      "Results for SVC(kernel=rbf)\n",
      "Training time: 647.842000s; Prediction time: 116.378000s\n",
      "             precision    recall  f1-score   support\n",
      "\n",
      "          0       0.00      0.00      0.00      2112\n",
      "          1       0.76      1.00      0.86      6637\n",
      "\n",
      "avg / total       0.58      0.76      0.65      8749\n",
      "\n",
      "Results for SVC(kernel=linear)\n",
      "Training time: 365.154000s; Prediction time: 60.150000s\n",
      "             precision    recall  f1-score   support\n",
      "\n",
      "          0       0.90      0.84      0.87      2112\n",
      "          1       0.95      0.97      0.96      6637\n",
      "\n",
      "avg / total       0.94      0.94      0.94      8749\n",
      "\n",
      "AUC:  0.980935011654\n",
      "Results for LinearSVC()\n",
      "Training time: 0.315000s; Prediction time: 0.000000s\n",
      "             precision    recall  f1-score   support\n",
      "\n",
      "          0       0.23      0.23      0.23      2112\n",
      "          1       0.76      0.76      0.76      6637\n",
      "\n",
      "avg / total       0.63      0.63      0.63      8749\n",
      "\n"
     ]
    }
   ],
   "source": [
    "# Print results in a nice table\n",
    "print(\"Results for SVC(kernel=rbf)\")\n",
    "print(\"Training time: %fs; Prediction time: %fs\" % (time_rbf_train, time_rbf_predict))\n",
    "print(classification_report(test_labels, prediction_rbf))\n",
    "\n",
    "print(\"Results for SVC(kernel=linear)\")\n",
    "print(\"Training time: %fs; Prediction time: %fs\" % (time_linear_train, time_linear_predict))\n",
    "print(classification_report(test_labels, prediction_linear))\n",
    "print \"AUC: \", roc_auc_score(test_labels, prediction_linear_proba[:,1])\n",
    "\n",
    "print(\"Results for LinearSVC()\")\n",
    "print(\"Training time: %fs; Prediction time: %fs\" % (time_liblinear_train, time_liblinear_predict))\n",
    "print(classification_report(test_labels, prediction_liblinear))"
   ]
  },
  {
   "cell_type": "markdown",
   "metadata": {},
   "source": [
    "# Descriptive"
   ]
  },
  {
   "cell_type": "code",
   "execution_count": null,
   "metadata": {
    "collapsed": true
   },
   "outputs": [],
   "source": [
    "from lime import lime_text\n",
    "from lime.lime_text import LimeTextExplainer\n",
    "from sklearn.pipeline import make_pipeline"
   ]
  },
  {
   "cell_type": "code",
   "execution_count": null,
   "metadata": {
    "collapsed": true
   },
   "outputs": [],
   "source": [
    "class_names = ['neg', 'pos']\n",
    "classifier_linear.classes_"
   ]
  },
  {
   "cell_type": "code",
   "execution_count": null,
   "metadata": {
    "collapsed": true
   },
   "outputs": [],
   "source": [
    "c = make_pipeline(vectorizer, classifier_linear)\n",
    "explainer = LimeTextExplainer(class_names=class_names)"
   ]
  },
  {
   "cell_type": "code",
   "execution_count": null,
   "metadata": {
    "collapsed": true
   },
   "outputs": [],
   "source": [
    "idx = 95\n",
    "exp = explainer.explain_instance(test_data[idx], c.predict_proba, num_features=8)\n",
    "print('Document id: %d' % idx)\n",
    "print('True class: %s' % class_names[test_labels[idx]])\n",
    "exp.show_in_notebook(text=False)"
   ]
  },
  {
   "cell_type": "code",
   "execution_count": null,
   "metadata": {
    "collapsed": true
   },
   "outputs": [],
   "source": []
  }
 ],
 "metadata": {
  "kernelspec": {
   "display_name": "Python 2",
   "language": "python",
   "name": "python2"
  },
  "language_info": {
   "codemirror_mode": {
    "name": "ipython",
    "version": 2
   },
   "file_extension": ".py",
   "mimetype": "text/x-python",
   "name": "python",
   "nbconvert_exporter": "python",
   "pygments_lexer": "ipython2",
   "version": "2.7.13"
  }
 },
 "nbformat": 4,
 "nbformat_minor": 2
}
